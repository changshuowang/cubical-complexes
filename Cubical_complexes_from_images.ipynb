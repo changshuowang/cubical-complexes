{
 "cells": [
  {
   "cell_type": "code",
   "execution_count": null,
   "metadata": {},
   "outputs": [],
   "source": [
    "import numpy as np\n",
    "import math\n",
    "from matplotlib import pyplot as plt\n",
    "import matplotlib.image as mpimg\n",
    "\n",
    "from PIL import Image\n",
    "\n",
    "!pip install gudhi\n",
    "import gudhi as gd\n",
    "\n",
    "image_path = \"./img/\""
   ]
  },
  {
   "cell_type": "markdown",
   "metadata": {},
   "source": [
    "#### Image processing functions"
   ]
  },
  {
   "cell_type": "code",
   "execution_count": null,
   "metadata": {},
   "outputs": [],
   "source": [
    "def get_img_as_gray_array(image_name):\n",
    "#     def rgb2gray(rgb):\n",
    "#         return \n",
    "\n",
    "    img = mpimg.imread(image_name)\n",
    "    print(\"Shape after loading: {}\".format(img.shape))\n",
    "    if len(img.shape) > 2:\n",
    "        gray_img = np.dot(img[...,:3], [0.2989, 0.5870, 0.1140])\n",
    "        print(\"Shape after graying: {}\".format(gray_img.shape))\n",
    "    else: \n",
    "        gray_img = img\n",
    "    return gray_img\n",
    "\n",
    "def normalise_img(img, min_val=0, max_val=255):\n",
    "    norm_img = img\n",
    "    norm_img = img - np.amin(img)\n",
    "    norm_img = norm_img / np.amax(norm_img)\n",
    "    norm_img = norm_img*max_val\n",
    "    norm_img = np.floor(norm_img)\n",
    "    norm_img = norm_img.astype(int)\n",
    "    return norm_img\n",
    "\n",
    "\n",
    "def tranform_img_to_bitmap(image, factor=0):\n",
    "    bitmap = []\n",
    "\n",
    "    for i in range(0,image.shape[0]-factor):\n",
    "        for j in range (0,image.shape[1]-factor):\n",
    "            bitmap.append(image[i,j])\n",
    "            \n",
    "    return bitmap\n"
   ]
  },
  {
   "cell_type": "markdown",
   "metadata": {},
   "source": [
    "#### Persistent homology functions"
   ]
  },
  {
   "cell_type": "code",
   "execution_count": null,
   "metadata": {},
   "outputs": [],
   "source": [
    "def get_betti_curves(complex_object, source_matrix):\n",
    "    betti_min_value = np.amin(source_matrix).astype(int)\n",
    "    betti_max_value = np.amax(source_matrix).astype(int)\n",
    "    \n",
    "    persistence = complex_object.persistence()\n",
    "    \n",
    "    matrix_range_values = range(betti_min_value,betti_max_value-1)\n",
    "    betti_values = complex_object.persistent_betti_numbers(from_value=betti_max_value, to_value=betti_min_value)\n",
    "    betti_curves_matrix = np.zeros((len(betti_values), len(matrix_range_values)), dtype=int)\n",
    "\n",
    "    for step in matrix_range_values:\n",
    "        betti_val = complex_object.persistent_betti_numbers(from_value=step+1, to_value=step)\n",
    "        betti_curves_matrix[:,step] = betti_val\n",
    "    \n",
    "    return betti_curves_matrix, matrix_range_values\n",
    "        \n",
    "def plot_betti_curves(betti_curves_matrix, matrix_range_values, min_dim=1):\n",
    "    x_vals = np.array(matrix_range_values)\n",
    "    max_betti = betti_curves_matrix.shape[0]\n",
    "    \n",
    "    for betti in range(min_dim,max_betti):\n",
    "        plt.plot(x_vals, betti_curves_matrix[betti,:])\n",
    "    plt.ylabel(\"# cycles\")\n",
    "    plt.xlabel(\"step\")\n",
    "    plt.title(\"Betti curves\")\n",
    "    return plt\n",
    "\n",
    "def get_persistence_diagram(complex_object):\n",
    "    persistence = complex_object.persistence()\n",
    "    my_plt = gd.plot_persistence_diagram(persistence)\n",
    "    return my_plt\n",
    "    \n",
    "def get_persistence_diagrams_for_img(img_name):\n",
    "    gray = get_img_as_gray_array(img_name)\n",
    "    min_val = np.amin(gray)\n",
    "    print(min_val)\n",
    "    max_val = np.amax(gray)\n",
    "    print(max_val)\n",
    "    print(gray.shape)\n",
    "\n",
    "    plt.imshow(gray, cmap=plt.get_cmap('gray'), interpolation='nearest', vmin=min_val, vmax=max_val)\n",
    "    #plt.savefig('circle.png')\n",
    "    plt.show()\n",
    "\n",
    "    norm_gray = normalise_img(gray)\n",
    "    bitmap = tranform_img_to_bitmap(norm_gray)\n",
    "    #Given the input data we can buld a Gudhi btmap cubical complex:\n",
    "    bcc = gd.CubicalComplex(top_dimensional_cells = bitmap, dimensions=[norm_gray.shape[0],norm_gray.shape[1]])\n",
    "    \n",
    "    betti_curves_matrix, image_range_values = get_betti_curves(bcc, norm_gray)\n",
    "#     plt.subplot(211)\n",
    "    betti_plt = plot_betti_curves(betti_curves_matrix, image_range_values, min_dim=0)\n",
    "    persi_plt = get_persistence_diagram(bcc)\n",
    "#     print(\"Betti plot type\")\n",
    "#     print(betti_plt)\n",
    "#     print(\"Peristence plot type\")\n",
    "#     print(persi_plt[0])\n",
    "#     plt.subplot(212)"
   ]
  },
  {
   "cell_type": "markdown",
   "metadata": {},
   "source": [
    "### Standard images"
   ]
  },
  {
   "cell_type": "code",
   "execution_count": null,
   "metadata": {},
   "outputs": [],
   "source": [
    "img_name =image_path+\"brick_s_352x288.png\"\n",
    "get_persistence_diagrams_for_img(img_name)\n"
   ]
  },
  {
   "cell_type": "code",
   "execution_count": null,
   "metadata": {},
   "outputs": [],
   "source": [
    "img_name = image_path+\"checkerboard.png\"\n",
    "# get_img_as_gray_array(img_name)\n",
    "get_persistence_diagrams_for_img(img_name)"
   ]
  },
  {
   "cell_type": "code",
   "execution_count": null,
   "metadata": {},
   "outputs": [],
   "source": [
    "img_name = image_path+\"water.png\"\n",
    "get_persistence_diagrams_for_img(img_name)"
   ]
  },
  {
   "cell_type": "markdown",
   "metadata": {},
   "source": [
    "### Additional brick wall images"
   ]
  },
  {
   "cell_type": "code",
   "execution_count": null,
   "metadata": {},
   "outputs": [],
   "source": [
    "img_name = image_path+\"brick_wall_1.jpg\"\n",
    "get_persistence_diagrams_for_img(img_name)"
   ]
  },
  {
   "cell_type": "code",
   "execution_count": null,
   "metadata": {},
   "outputs": [],
   "source": [
    "img_name = image_path+\"brick_wall_2.jpg\"\n",
    "get_persistence_diagrams_for_img(img_name)"
   ]
  },
  {
   "cell_type": "code",
   "execution_count": null,
   "metadata": {},
   "outputs": [],
   "source": [
    "img_name = image_path+\"brick_wall_3.png\"\n",
    "get_persistence_diagrams_for_img(img_name)"
   ]
  },
  {
   "cell_type": "markdown",
   "metadata": {},
   "source": [
    "### Designed \"brick wall\"-like images"
   ]
  },
  {
   "cell_type": "code",
   "execution_count": null,
   "metadata": {},
   "outputs": [],
   "source": [
    "img_name = image_path+\"bw_brick_wall.jpg\"\n",
    "get_persistence_diagrams_for_img(img_name)"
   ]
  },
  {
   "cell_type": "markdown",
   "metadata": {},
   "source": [
    "#### Designed brick wall images with added noise"
   ]
  },
  {
   "cell_type": "code",
   "execution_count": null,
   "metadata": {},
   "outputs": [],
   "source": [
    "img_name = image_path+\"bw_brick_wall_noisy_1_0.jpg\"\n",
    "get_persistence_diagrams_for_img(img_name)"
   ]
  },
  {
   "cell_type": "code",
   "execution_count": null,
   "metadata": {},
   "outputs": [],
   "source": [
    "img_name = image_path+\"bw_brick_wall_noisy_0_1.jpg\"\n",
    "get_persistence_diagrams_for_img(img_name)"
   ]
  },
  {
   "cell_type": "code",
   "execution_count": null,
   "metadata": {},
   "outputs": [],
   "source": [
    "img_name = image_path+\"bw_brick_wall_noisy_2_1.jpg\"\n",
    "get_persistence_diagrams_for_img(img_name)"
   ]
  },
  {
   "cell_type": "code",
   "execution_count": null,
   "metadata": {},
   "outputs": [],
   "source": [
    "img_name = image_path+\"bw_brick_wall_noisy_3_2.jpg\"\n",
    "get_persistence_diagrams_for_img(img_name)"
   ]
  },
  {
   "cell_type": "code",
   "execution_count": null,
   "metadata": {},
   "outputs": [],
   "source": [
    "img_name = image_path+\"bw_brick_wall_noisy_4_4.jpg\"\n",
    "get_persistence_diagrams_for_img(img_name)"
   ]
  },
  {
   "cell_type": "code",
   "execution_count": null,
   "metadata": {},
   "outputs": [],
   "source": [
    "img_name = image_path+\"bw_brick_wall_noisy_7_6.jpg\"\n",
    "get_persistence_diagrams_for_img(img_name)"
   ]
  },
  {
   "cell_type": "markdown",
   "metadata": {},
   "source": [
    "### Other test images- water interference patterns"
   ]
  },
  {
   "cell_type": "code",
   "execution_count": null,
   "metadata": {},
   "outputs": [],
   "source": [
    "img_name = image_path+\"water_interference_1.jpg\"\n",
    "get_persistence_diagrams_for_img(img_name)"
   ]
  },
  {
   "cell_type": "code",
   "execution_count": null,
   "metadata": {},
   "outputs": [],
   "source": [
    "img_name = image_path+\"water_interference_2.png\"\n",
    "get_persistence_diagrams_for_img(img_name)"
   ]
  },
  {
   "cell_type": "code",
   "execution_count": null,
   "metadata": {},
   "outputs": [],
   "source": []
  }
 ],
 "metadata": {
  "@webio": {
   "lastCommId": null,
   "lastKernelId": null
  },
  "kernelspec": {
   "display_name": "Python [conda env:gudhi] *",
   "language": "python",
   "name": "conda-env-gudhi-py"
  },
  "language_info": {
   "codemirror_mode": {
    "name": "ipython",
    "version": 3
   },
   "file_extension": ".py",
   "mimetype": "text/x-python",
   "name": "python",
   "nbconvert_exporter": "python",
   "pygments_lexer": "ipython3",
   "version": "3.8.2"
  }
 },
 "nbformat": 4,
 "nbformat_minor": 4
}
