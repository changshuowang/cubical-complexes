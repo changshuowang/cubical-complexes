{
 "cells": [
  {
   "cell_type": "markdown",
   "metadata": {},
   "source": [
    "# Rips coplex examples\n",
    "\n",
    "Adapted from:\n",
    "- https://gudhi.inria.fr/python/latest/rips_complex_user.html"
   ]
  },
  {
   "cell_type": "code",
   "execution_count": null,
   "metadata": {},
   "outputs": [],
   "source": [
    "import gudhi\n",
    "import numpy as np"
   ]
  },
  {
   "cell_type": "markdown",
   "metadata": {},
   "source": [
    "#### Example with point cloud"
   ]
  },
  {
   "cell_type": "code",
   "execution_count": null,
   "metadata": {
    "scrolled": true
   },
   "outputs": [],
   "source": [
    "rips_complex = gd.RipsComplex(points=[[1, 1], [7, 0], [4, 6], [9, 6], [0, 14], [2, 19], [9, 17]],\n",
    "                                 max_edge_length=12.0)\n",
    "\n",
    "simplex_tree = rips_complex.create_simplex_tree(max_dimension=1)\n",
    "result_str = 'Rips complex is of dimension ' + repr(simplex_tree.dimension()) + ' - ' + \\\n",
    "    repr(simplex_tree.num_simplices()) + ' simplices - ' + \\\n",
    "    repr(simplex_tree.num_vertices()) + ' vertices.'\n",
    "print(result_str)\n",
    "fmt = '%s -> %.2f'\n",
    "for filtered_value in simplex_tree.get_filtration():\n",
    "    print(fmt % tuple(filtered_value))"
   ]
  },
  {
   "cell_type": "markdown",
   "metadata": {},
   "source": [
    "#### Example with correlation"
   ]
  },
  {
   "cell_type": "code",
   "execution_count": null,
   "metadata": {
    "scrolled": true
   },
   "outputs": [],
   "source": [
    "\n",
    "\n",
    "# User defined correlation matrix is:\n",
    "# |1     0.06    0.23    0.01    0.89|\n",
    "# |0.06  1       0.74    0.01    0.61|\n",
    "# |0.23  0.74    1       0.72    0.03|\n",
    "# |0.01  0.01    0.72    1       0.7 |\n",
    "# |0.89  0.61    0.03    0.7     1   |\n",
    "correlation_matrix=np.array([[1., 0.06, 0.23, 0.01, 0.89],\n",
    "                            [0.06, 1., 0.74, 0.01, 0.61],\n",
    "                            [0.23, 0.74, 1., 0.72, 0.03],\n",
    "                            [0.01, 0.01, 0.72, 1., 0.7],\n",
    "                            [0.89, 0.61, 0.03, 0.7, 1.]], float)\n",
    "\n",
    "distance_matrix = 1 - correlation_matrix\n",
    "rips_complex = gudhi.RipsComplex(distance_matrix=distance_matrix, max_edge_length=1.0)\n",
    "\n",
    "simplex_tree = rips_complex.create_simplex_tree(max_dimension=1)\n",
    "result_str = 'Rips complex is of dimension ' + repr(simplex_tree.dimension()) + ' - ' + \\\n",
    "    repr(simplex_tree.num_simplices()) + ' simplices - ' + \\\n",
    "    repr(simplex_tree.num_vertices()) + ' vertices.'\n",
    "print(result_str)\n",
    "fmt = '%s -> %.2f'\n",
    "for filtered_value in simplex_tree.get_filtration():\n",
    "    print(fmt % tuple(filtered_value))"
   ]
  },
  {
   "cell_type": "markdown",
   "metadata": {},
   "source": [
    "# Apply Gudhi to  geometric matrix"
   ]
  },
  {
   "cell_type": "code",
   "execution_count": null,
   "metadata": {},
   "outputs": [],
   "source": [
    "import numpy as np\n",
    "import math\n",
    "import gudhi as gd\n",
    "from matplotlib import pyplot as plt\n",
    "import matplotlib.image as mpimg\n",
    "\n",
    "from PIL import Image\n",
    "from sklearn import metrics"
   ]
  },
  {
   "cell_type": "markdown",
   "metadata": {},
   "source": [
    "### Get ordered geometric matrix\n",
    "The notebook is shipped with files for N={40, 80, 160} and cloud_dim={20}"
   ]
  },
  {
   "cell_type": "code",
   "execution_count": null,
   "metadata": {},
   "outputs": [],
   "source": [
    "from numpy import genfromtxt\n",
    "\n",
    "N = 40\n",
    "cloud_dim = 20\n",
    "ord_mat = genfromtxt('ordering_matrix_points{}_dims{}.csv'.format(N, cloud_dim), delimiter=',')\n",
    "\n",
    "max_ord_val = np.amax(ord_mat)"
   ]
  },
  {
   "cell_type": "markdown",
   "metadata": {},
   "source": [
    "### Compute topology"
   ]
  },
  {
   "cell_type": "code",
   "execution_count": null,
   "metadata": {},
   "outputs": [],
   "source": [
    "rips_complex = gd.RipsComplex(distance_matrix=ord_mat, max_edge_length=max_ord_val)\n",
    "\n",
    "simplex_tree = rips_complex.create_simplex_tree(max_dimension=3)"
   ]
  },
  {
   "cell_type": "markdown",
   "metadata": {},
   "source": [
    "#### Get Betti curve"
   ]
  },
  {
   "cell_type": "code",
   "execution_count": null,
   "metadata": {},
   "outputs": [],
   "source": [
    "def get_betti_curves(complex_object, source_matrix):\n",
    "    betti_min_value = np.amin(source_matrix).astype(int)\n",
    "    betti_max_value = np.amax(source_matrix).astype(int)\n",
    "    \n",
    "    persistence = complex_object.persistence()\n",
    "    \n",
    "    matrix_range_values = range(betti_min_value,betti_max_value-1)\n",
    "    betti_values = complex_object.persistent_betti_numbers(from_value=betti_max_value, to_value=betti_min_value)\n",
    "    betti_curves_matrix = np.zeros((len(betti_values), len(matrix_range_values)), dtype=int)\n",
    "\n",
    "    for step in matrix_range_values:\n",
    "        betti_val = complex_object.persistent_betti_numbers(from_value=step+1, to_value=step)\n",
    "        betti_curves_matrix[:,step] = betti_val\n",
    "    \n",
    "    return betti_curves_matrix, matrix_range_values\n",
    "        \n",
    "def plot_betti_curves(betti_curves_matrix, matrix_range_values, min_dim=1):\n",
    "    x_vals = np.array(image_range_values)\n",
    "    max_betti = betti_curves_matrix.shape[0]\n",
    "    \n",
    "    for betti in range(min_dim,max_betti):\n",
    "        plt.plot(x_vals, betti_curves_matrix[betti,:])\n",
    "    plt.ylabel(\"# cycles\")\n",
    "    plt.xlabel(\"step\")\n",
    "    plt.title(\"Betti curves\")\n"
   ]
  },
  {
   "cell_type": "code",
   "execution_count": null,
   "metadata": {},
   "outputs": [],
   "source": [
    "betti_curves_matrix, image_range_values = get_betti_curves(simplex_tree, ord_mat)\n",
    "plot_betti_curves(betti_curves_matrix, image_range_values)"
   ]
  },
  {
   "cell_type": "code",
   "execution_count": null,
   "metadata": {},
   "outputs": [],
   "source": []
  },
  {
   "cell_type": "code",
   "execution_count": null,
   "metadata": {},
   "outputs": [],
   "source": []
  }
 ],
 "metadata": {
  "@webio": {
   "lastCommId": null,
   "lastKernelId": null
  },
  "kernelspec": {
   "display_name": "Python [conda env:gudhi] *",
   "language": "python",
   "name": "conda-env-gudhi-py"
  },
  "language_info": {
   "codemirror_mode": {
    "name": "ipython",
    "version": 3
   },
   "file_extension": ".py",
   "mimetype": "text/x-python",
   "name": "python",
   "nbconvert_exporter": "python",
   "pygments_lexer": "ipython3",
   "version": "3.8.2"
  }
 },
 "nbformat": 4,
 "nbformat_minor": 4
}
